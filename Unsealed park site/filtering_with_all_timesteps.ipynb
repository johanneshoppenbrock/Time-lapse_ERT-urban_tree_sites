{
 "cells": [
  {
   "cell_type": "code",
   "execution_count": 1,
   "id": "8fdd962f-f731-4bac-95f4-bf538530b870",
   "metadata": {},
   "outputs": [
    {
     "name": "stderr",
     "output_type": "stream",
     "text": [
      "[NbConvertApp] Converting notebook Hilfsfunktionen.ipynb to script\n",
      "[NbConvertApp] Writing 24885 bytes to Hilfsfunktionen.py\n",
      "12/04/25 - 18:03:50 - pyGIMLi - \u001b[0;32;49mINFO\u001b[0m - Cache C:\\Users\\johan\\anaconda3\\envs\\pg\\Lib\\site-packages\\pygimli\\physics\\ert\\ert.py:createGeometricFactors restored (7.1s x 4): C:\\Users\\johan\\AppData\\Roaming\\pygimli\\Cache\\4867286380172583206\n",
      "12/04/25 - 18:03:51 - pyGIMLi - \u001b[0;32;49mINFO\u001b[0m - Cache C:\\Users\\johan\\anaconda3\\envs\\pg\\Lib\\site-packages\\pygimli\\physics\\ert\\ert.py:createGeometricFactors restored (7.6s x 9): C:\\Users\\johan\\AppData\\Roaming\\pygimli\\Cache\\8967323278593867380\n",
      "12/04/25 - 18:03:51 - pyGIMLi - \u001b[0;32;49mINFO\u001b[0m - Cache C:\\Users\\johan\\anaconda3\\envs\\pg\\Lib\\site-packages\\pygimli\\physics\\ert\\ert.py:createGeometricFactors restored (2.6s x 13): C:\\Users\\johan\\AppData\\Roaming\\pygimli\\Cache\\5775945612859780874\n",
      "12/04/25 - 18:03:52 - pyGIMLi - \u001b[0;32;49mINFO\u001b[0m - Cache C:\\Users\\johan\\anaconda3\\envs\\pg\\Lib\\site-packages\\pygimli\\physics\\ert\\ert.py:createGeometricFactors restored (2.7s x 13): C:\\Users\\johan\\AppData\\Roaming\\pygimli\\Cache\\5942829282356951827\n",
      "12/04/25 - 18:03:52 - pyGIMLi - \u001b[0;32;49mINFO\u001b[0m - Cache C:\\Users\\johan\\anaconda3\\envs\\pg\\Lib\\site-packages\\pygimli\\physics\\ert\\ert.py:createGeometricFactors restored (2.5s x 13): C:\\Users\\johan\\AppData\\Roaming\\pygimli\\Cache\\7657500005456774064\n",
      "12/04/25 - 18:03:52 - pyGIMLi - \u001b[0;32;49mINFO\u001b[0m - Cache C:\\Users\\johan\\anaconda3\\envs\\pg\\Lib\\site-packages\\pygimli\\physics\\ert\\ert.py:createGeometricFactors restored (2.5s x 13): C:\\Users\\johan\\AppData\\Roaming\\pygimli\\Cache\\4680245128470872965\n",
      "12/04/25 - 18:03:53 - pyGIMLi - \u001b[0;32;49mINFO\u001b[0m - Cache C:\\Users\\johan\\anaconda3\\envs\\pg\\Lib\\site-packages\\pygimli\\physics\\ert\\ert.py:createGeometricFactors restored (2.9s x 13): C:\\Users\\johan\\AppData\\Roaming\\pygimli\\Cache\\4415328331972084296\n",
      "12/04/25 - 18:03:53 - pyGIMLi - \u001b[0;32;49mINFO\u001b[0m - Cache C:\\Users\\johan\\anaconda3\\envs\\pg\\Lib\\site-packages\\pygimli\\physics\\ert\\ert.py:createGeometricFactors restored (3.1s x 13): C:\\Users\\johan\\AppData\\Roaming\\pygimli\\Cache\\1967777776140175424\n",
      "12/04/25 - 18:03:54 - pyGIMLi - \u001b[0;32;49mINFO\u001b[0m - Cache C:\\Users\\johan\\anaconda3\\envs\\pg\\Lib\\site-packages\\pygimli\\physics\\ert\\ert.py:createGeometricFactors restored (2.4s x 13): C:\\Users\\johan\\AppData\\Roaming\\pygimli\\Cache\\7007820507367183787\n",
      "12/04/25 - 18:03:54 - pyGIMLi - \u001b[0;32;49mINFO\u001b[0m - Cache C:\\Users\\johan\\anaconda3\\envs\\pg\\Lib\\site-packages\\pygimli\\physics\\ert\\ert.py:createGeometricFactors restored (3.1s x 72): C:\\Users\\johan\\AppData\\Roaming\\pygimli\\Cache\\5214055155866955214\n",
      "12/04/25 - 18:03:55 - pyGIMLi - \u001b[0;32;49mINFO\u001b[0m - Cache C:\\Users\\johan\\anaconda3\\envs\\pg\\Lib\\site-packages\\pygimli\\physics\\ert\\ert.py:createGeometricFactors restored (2.8s x 71): C:\\Users\\johan\\AppData\\Roaming\\pygimli\\Cache\\5862650845057937610\n",
      "12/04/25 - 18:03:55 - pyGIMLi - \u001b[0;32;49mINFO\u001b[0m - Cache C:\\Users\\johan\\anaconda3\\envs\\pg\\Lib\\site-packages\\pygimli\\physics\\ert\\ert.py:createGeometricFactors restored (2.7s x 13): C:\\Users\\johan\\AppData\\Roaming\\pygimli\\Cache\\5168560800822789474\n",
      "12/04/25 - 18:03:56 - pyGIMLi - \u001b[0;32;49mINFO\u001b[0m - Cache C:\\Users\\johan\\anaconda3\\envs\\pg\\Lib\\site-packages\\pygimli\\physics\\ert\\ert.py:createGeometricFactors restored (3.0s x 12): C:\\Users\\johan\\AppData\\Roaming\\pygimli\\Cache\\6307835264679755351\n",
      "12/04/25 - 18:03:57 - pyGIMLi - \u001b[0;32;49mINFO\u001b[0m - Cache C:\\Users\\johan\\anaconda3\\envs\\pg\\Lib\\site-packages\\pygimli\\physics\\ert\\ert.py:createGeometricFactors restored (6.8s x 5): C:\\Users\\johan\\AppData\\Roaming\\pygimli\\Cache\\6714182164380713695\n",
      "12/04/25 - 18:03:57 - pyGIMLi - \u001b[0;32;49mINFO\u001b[0m - Cache C:\\Users\\johan\\anaconda3\\envs\\pg\\Lib\\site-packages\\pygimli\\physics\\ert\\ert.py:createGeometricFactors restored (5.5s x 5): C:\\Users\\johan\\AppData\\Roaming\\pygimli\\Cache\\4865101410681631010\n"
     ]
    }
   ],
   "source": [
    "import pygimli as pg\n",
    "import os \n",
    "\n",
    "from Hilfsfunktionen import processing \n",
    "from Hilfsfunktionen import adjust\n",
    "from Hilfsfunktionen import read \n",
    "from Hilfsfunktionen import filter\n",
    "\n",
    "# read data\n",
    "dataset = 'all_timesteps'\n",
    "wenner, dd = read(filename = dataset)\n",
    "\n",
    "# Merge Wenner and DD\n",
    "for wen in wenner:\n",
    "    for dipol in dd:\n",
    "        if wen[0] == dipol[0]:\n",
    "            wen[1].add(dipol[1])\n",
    "\n",
    "# Processing and filtering\n",
    "for data in wenner:\n",
    "    processing(data[1],  max_err = 10, smallest_rhoa = 10, biggest_rhoa = 2000,\n",
    "               err_abs = 0.01, err_rel = .05, max_err_est =100,  setError = False, sort_out_error = 10000 )\n",
    "    filter(data[1], filter_value = 0.8,  setError = False, sort_out_error = 10000)\n",
    "    \n",
    "adjust(wenner) # same quadropoles for all time steps\n",
    "\n",
    "# Remove values that double or halve relative to the subsequent time step\n",
    "for nr, data in enumerate(wenner):\n",
    "    if nr > 0:\n",
    "        wenner[nr-1][1].remove(data[1]['rhoa']/wenner[nr-1][1]['rhoa']>1.7)\n",
    "adjust(wenner) # same quadropoles for all time steps\n",
    "for nr, data in enumerate(wenner):\n",
    "    if nr > 0:\n",
    "        wenner[nr-1][1].remove(data[1]['rhoa']/wenner[nr-1][1]['rhoa']<0.5)\n",
    "adjust(wenner) # same quadropoles for all time steps\n",
    "\n",
    "# save filtered data \n",
    "for ordner_name, daten_objekt in wenner: \n",
    "    ordner_pfad = os.path.join(\"filtered_data\", ordner_name) \n",
    "    os.makedirs(ordner_pfad, exist_ok=True)\n",
    "    datei_pfad = os.path.join(ordner_pfad, \"all_timesteps.ohm\")\n",
    "    daten_objekt.save(datei_pfad)"
   ]
  },
  {
   "cell_type": "code",
   "execution_count": null,
   "id": "4d9f5866-e04c-478e-9f80-d88890df979a",
   "metadata": {},
   "outputs": [],
   "source": []
  }
 ],
 "metadata": {
  "kernelspec": {
   "display_name": "Python 3 (ipykernel)",
   "language": "python",
   "name": "python3"
  },
  "language_info": {
   "codemirror_mode": {
    "name": "ipython",
    "version": 3
   },
   "file_extension": ".py",
   "mimetype": "text/x-python",
   "name": "python",
   "nbconvert_exporter": "python",
   "pygments_lexer": "ipython3",
   "version": "3.11.9"
  }
 },
 "nbformat": 4,
 "nbformat_minor": 5
}
